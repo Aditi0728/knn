{
 "cells": [
  {
   "cell_type": "code",
   "execution_count": 1,
   "id": "b5d3a2c8",
   "metadata": {},
   "outputs": [
    {
     "data": {
      "text/html": [
       "<div>\n",
       "<style scoped>\n",
       "    .dataframe tbody tr th:only-of-type {\n",
       "        vertical-align: middle;\n",
       "    }\n",
       "\n",
       "    .dataframe tbody tr th {\n",
       "        vertical-align: top;\n",
       "    }\n",
       "\n",
       "    .dataframe thead th {\n",
       "        text-align: right;\n",
       "    }\n",
       "</style>\n",
       "<table border=\"1\" class=\"dataframe\">\n",
       "  <thead>\n",
       "    <tr style=\"text-align: right;\">\n",
       "      <th></th>\n",
       "      <th>Pregnancies</th>\n",
       "      <th>Glucose</th>\n",
       "      <th>BloodPressure</th>\n",
       "      <th>SkinThickness</th>\n",
       "      <th>Insulin</th>\n",
       "      <th>BMI</th>\n",
       "      <th>Pedigree</th>\n",
       "      <th>Age</th>\n",
       "      <th>Outcome</th>\n",
       "    </tr>\n",
       "  </thead>\n",
       "  <tbody>\n",
       "    <tr>\n",
       "      <th>0</th>\n",
       "      <td>6</td>\n",
       "      <td>148</td>\n",
       "      <td>72</td>\n",
       "      <td>35</td>\n",
       "      <td>0</td>\n",
       "      <td>33.6</td>\n",
       "      <td>0.627</td>\n",
       "      <td>50</td>\n",
       "      <td>1</td>\n",
       "    </tr>\n",
       "    <tr>\n",
       "      <th>1</th>\n",
       "      <td>1</td>\n",
       "      <td>85</td>\n",
       "      <td>66</td>\n",
       "      <td>29</td>\n",
       "      <td>0</td>\n",
       "      <td>26.6</td>\n",
       "      <td>0.351</td>\n",
       "      <td>31</td>\n",
       "      <td>0</td>\n",
       "    </tr>\n",
       "    <tr>\n",
       "      <th>2</th>\n",
       "      <td>8</td>\n",
       "      <td>183</td>\n",
       "      <td>64</td>\n",
       "      <td>0</td>\n",
       "      <td>0</td>\n",
       "      <td>23.3</td>\n",
       "      <td>0.672</td>\n",
       "      <td>32</td>\n",
       "      <td>1</td>\n",
       "    </tr>\n",
       "    <tr>\n",
       "      <th>3</th>\n",
       "      <td>1</td>\n",
       "      <td>89</td>\n",
       "      <td>66</td>\n",
       "      <td>23</td>\n",
       "      <td>94</td>\n",
       "      <td>28.1</td>\n",
       "      <td>0.167</td>\n",
       "      <td>21</td>\n",
       "      <td>0</td>\n",
       "    </tr>\n",
       "    <tr>\n",
       "      <th>4</th>\n",
       "      <td>0</td>\n",
       "      <td>137</td>\n",
       "      <td>40</td>\n",
       "      <td>35</td>\n",
       "      <td>168</td>\n",
       "      <td>43.1</td>\n",
       "      <td>2.288</td>\n",
       "      <td>33</td>\n",
       "      <td>1</td>\n",
       "    </tr>\n",
       "  </tbody>\n",
       "</table>\n",
       "</div>"
      ],
      "text/plain": [
       "   Pregnancies  Glucose  BloodPressure  SkinThickness  Insulin   BMI  \\\n",
       "0            6      148             72             35        0  33.6   \n",
       "1            1       85             66             29        0  26.6   \n",
       "2            8      183             64              0        0  23.3   \n",
       "3            1       89             66             23       94  28.1   \n",
       "4            0      137             40             35      168  43.1   \n",
       "\n",
       "   Pedigree  Age  Outcome  \n",
       "0     0.627   50        1  \n",
       "1     0.351   31        0  \n",
       "2     0.672   32        1  \n",
       "3     0.167   21        0  \n",
       "4     2.288   33        1  "
      ]
     },
     "execution_count": 1,
     "metadata": {},
     "output_type": "execute_result"
    }
   ],
   "source": [
    "import numpy as np \n",
    "import pandas as pd\n",
    "import math\n",
    "import matplotlib.pyplot as plt\n",
    "import seaborn as sns \n",
    "from sklearn.neighbors import KNeighborsClassifier\n",
    "from sklearn import metrics\n",
    "from sklearn.model_selection import cross_val_score\n",
    "from sklearn.model_selection import KFold\n",
    "%matplotlib inline\n",
    "\n",
    "\n",
    "location = 'diabetes.csv'\n",
    "f = pd.read_csv(location)\n",
    "data = pd.DataFrame(f)\n",
    "data.head()"
   ]
  },
  {
   "cell_type": "code",
   "execution_count": 2,
   "id": "e2cd90fd",
   "metadata": {},
   "outputs": [
    {
     "data": {
      "text/html": [
       "<style  type=\"text/css\" >\n",
       "#T_fc7cf_row0_col2,#T_fc7cf_row0_col3,#T_fc7cf_row0_col7,#T_fc7cf_row0_col8,#T_fc7cf_row2_col0,#T_fc7cf_row2_col1,#T_fc7cf_row2_col8,#T_fc7cf_row4_col3,#T_fc7cf_row4_col4,#T_fc7cf_row4_col5,#T_fc7cf_row4_col6,#T_fc7cf_row4_col8{\n",
       "            background-color:  lightblue;\n",
       "        }#T_fc7cf_row1_col1,#T_fc7cf_row1_col8,#T_fc7cf_row2_col5,#T_fc7cf_row3_col3,#T_fc7cf_row3_col4,#T_fc7cf_row3_col6,#T_fc7cf_row3_col7,#T_fc7cf_row3_col8,#T_fc7cf_row4_col0,#T_fc7cf_row4_col2{\n",
       "            background-color:  red;\n",
       "        }</style><table id=\"T_fc7cf_\" ><thead>    <tr>        <th class=\"blank level0\" ></th>        <th class=\"col_heading level0 col0\" >Pregnancies</th>        <th class=\"col_heading level0 col1\" >Glucose</th>        <th class=\"col_heading level0 col2\" >BloodPressure</th>        <th class=\"col_heading level0 col3\" >SkinThickness</th>        <th class=\"col_heading level0 col4\" >Insulin</th>        <th class=\"col_heading level0 col5\" >BMI</th>        <th class=\"col_heading level0 col6\" >Pedigree</th>        <th class=\"col_heading level0 col7\" >Age</th>        <th class=\"col_heading level0 col8\" >Outcome</th>    </tr></thead><tbody>\n",
       "                <tr>\n",
       "                        <th id=\"T_fc7cf_level0_row0\" class=\"row_heading level0 row0\" >0</th>\n",
       "                        <td id=\"T_fc7cf_row0_col0\" class=\"data row0 col0\" >6</td>\n",
       "                        <td id=\"T_fc7cf_row0_col1\" class=\"data row0 col1\" >148.000000</td>\n",
       "                        <td id=\"T_fc7cf_row0_col2\" class=\"data row0 col2\" >72.000000</td>\n",
       "                        <td id=\"T_fc7cf_row0_col3\" class=\"data row0 col3\" >35.000000</td>\n",
       "                        <td id=\"T_fc7cf_row0_col4\" class=\"data row0 col4\" >155.000000</td>\n",
       "                        <td id=\"T_fc7cf_row0_col5\" class=\"data row0 col5\" >33.600000</td>\n",
       "                        <td id=\"T_fc7cf_row0_col6\" class=\"data row0 col6\" >0.627000</td>\n",
       "                        <td id=\"T_fc7cf_row0_col7\" class=\"data row0 col7\" >50</td>\n",
       "                        <td id=\"T_fc7cf_row0_col8\" class=\"data row0 col8\" >1</td>\n",
       "            </tr>\n",
       "            <tr>\n",
       "                        <th id=\"T_fc7cf_level0_row1\" class=\"row_heading level0 row1\" >1</th>\n",
       "                        <td id=\"T_fc7cf_row1_col0\" class=\"data row1 col0\" >1</td>\n",
       "                        <td id=\"T_fc7cf_row1_col1\" class=\"data row1 col1\" >85.000000</td>\n",
       "                        <td id=\"T_fc7cf_row1_col2\" class=\"data row1 col2\" >66.000000</td>\n",
       "                        <td id=\"T_fc7cf_row1_col3\" class=\"data row1 col3\" >29.000000</td>\n",
       "                        <td id=\"T_fc7cf_row1_col4\" class=\"data row1 col4\" >155.000000</td>\n",
       "                        <td id=\"T_fc7cf_row1_col5\" class=\"data row1 col5\" >26.600000</td>\n",
       "                        <td id=\"T_fc7cf_row1_col6\" class=\"data row1 col6\" >0.351000</td>\n",
       "                        <td id=\"T_fc7cf_row1_col7\" class=\"data row1 col7\" >31</td>\n",
       "                        <td id=\"T_fc7cf_row1_col8\" class=\"data row1 col8\" >0</td>\n",
       "            </tr>\n",
       "            <tr>\n",
       "                        <th id=\"T_fc7cf_level0_row2\" class=\"row_heading level0 row2\" >2</th>\n",
       "                        <td id=\"T_fc7cf_row2_col0\" class=\"data row2 col0\" >8</td>\n",
       "                        <td id=\"T_fc7cf_row2_col1\" class=\"data row2 col1\" >183.000000</td>\n",
       "                        <td id=\"T_fc7cf_row2_col2\" class=\"data row2 col2\" >64.000000</td>\n",
       "                        <td id=\"T_fc7cf_row2_col3\" class=\"data row2 col3\" >29.000000</td>\n",
       "                        <td id=\"T_fc7cf_row2_col4\" class=\"data row2 col4\" >155.000000</td>\n",
       "                        <td id=\"T_fc7cf_row2_col5\" class=\"data row2 col5\" >23.300000</td>\n",
       "                        <td id=\"T_fc7cf_row2_col6\" class=\"data row2 col6\" >0.672000</td>\n",
       "                        <td id=\"T_fc7cf_row2_col7\" class=\"data row2 col7\" >32</td>\n",
       "                        <td id=\"T_fc7cf_row2_col8\" class=\"data row2 col8\" >1</td>\n",
       "            </tr>\n",
       "            <tr>\n",
       "                        <th id=\"T_fc7cf_level0_row3\" class=\"row_heading level0 row3\" >3</th>\n",
       "                        <td id=\"T_fc7cf_row3_col0\" class=\"data row3 col0\" >1</td>\n",
       "                        <td id=\"T_fc7cf_row3_col1\" class=\"data row3 col1\" >89.000000</td>\n",
       "                        <td id=\"T_fc7cf_row3_col2\" class=\"data row3 col2\" >66.000000</td>\n",
       "                        <td id=\"T_fc7cf_row3_col3\" class=\"data row3 col3\" >23.000000</td>\n",
       "                        <td id=\"T_fc7cf_row3_col4\" class=\"data row3 col4\" >94.000000</td>\n",
       "                        <td id=\"T_fc7cf_row3_col5\" class=\"data row3 col5\" >28.100000</td>\n",
       "                        <td id=\"T_fc7cf_row3_col6\" class=\"data row3 col6\" >0.167000</td>\n",
       "                        <td id=\"T_fc7cf_row3_col7\" class=\"data row3 col7\" >21</td>\n",
       "                        <td id=\"T_fc7cf_row3_col8\" class=\"data row3 col8\" >0</td>\n",
       "            </tr>\n",
       "            <tr>\n",
       "                        <th id=\"T_fc7cf_level0_row4\" class=\"row_heading level0 row4\" >4</th>\n",
       "                        <td id=\"T_fc7cf_row4_col0\" class=\"data row4 col0\" >0</td>\n",
       "                        <td id=\"T_fc7cf_row4_col1\" class=\"data row4 col1\" >137.000000</td>\n",
       "                        <td id=\"T_fc7cf_row4_col2\" class=\"data row4 col2\" >40.000000</td>\n",
       "                        <td id=\"T_fc7cf_row4_col3\" class=\"data row4 col3\" >35.000000</td>\n",
       "                        <td id=\"T_fc7cf_row4_col4\" class=\"data row4 col4\" >168.000000</td>\n",
       "                        <td id=\"T_fc7cf_row4_col5\" class=\"data row4 col5\" >43.100000</td>\n",
       "                        <td id=\"T_fc7cf_row4_col6\" class=\"data row4 col6\" >2.288000</td>\n",
       "                        <td id=\"T_fc7cf_row4_col7\" class=\"data row4 col7\" >33</td>\n",
       "                        <td id=\"T_fc7cf_row4_col8\" class=\"data row4 col8\" >1</td>\n",
       "            </tr>\n",
       "    </tbody></table>"
      ],
      "text/plain": [
       "<pandas.io.formats.style.Styler at 0x1f80c5a2b20>"
      ]
     },
     "execution_count": 2,
     "metadata": {},
     "output_type": "execute_result"
    }
   ],
   "source": [
    "cols_clean = ['Glucose','BloodPressure','SkinThickness','Insulin','BMI','Pedigree']\n",
    "\n",
    "# with this function , i dealt with missing values and NaN values \n",
    "for i in cols_clean:\n",
    "    data[i] = data[i].replace(0,np.NaN)\n",
    "    cols_mean = int(data[i].mean(skipna=True))\n",
    "    data[i] = data[i].replace(np.NaN, cols_mean)\n",
    "data1 = data\n",
    "data1.head().style.highlight_max(color=\"lightblue\").highlight_min(color=\"red\")"
   ]
  },
  {
   "cell_type": "code",
   "execution_count": 3,
   "id": "091a3977",
   "metadata": {},
   "outputs": [
    {
     "name": "stdout",
     "output_type": "stream",
     "text": [
      "       Pregnancies     Glucose  BloodPressure  SkinThickness    Insulin  \\\n",
      "count   768.000000  768.000000     768.000000     768.000000  768.00000   \n",
      "mean      3.845052  121.682292      72.386719      29.108073  155.28125   \n",
      "std       3.369578   30.435999      12.096642       8.791221   85.02155   \n",
      "min       0.000000   44.000000      24.000000       7.000000   14.00000   \n",
      "25%       1.000000   99.750000      64.000000      25.000000  121.50000   \n",
      "50%       3.000000  117.000000      72.000000      29.000000  155.00000   \n",
      "75%       6.000000  140.250000      80.000000      32.000000  155.00000   \n",
      "max      17.000000  199.000000     122.000000      99.000000  846.00000   \n",
      "\n",
      "              BMI    Pedigree         Age     Outcome  \n",
      "count  768.000000  768.000000  768.000000  768.000000  \n",
      "mean    32.450911    0.471876   33.240885    0.348958  \n",
      "std      6.875366    0.331329   11.760232    0.476951  \n",
      "min     18.200000    0.078000   21.000000    0.000000  \n",
      "25%     27.500000    0.243750   24.000000    0.000000  \n",
      "50%     32.000000    0.372500   29.000000    0.000000  \n",
      "75%     36.600000    0.626250   41.000000    1.000000  \n",
      "max     67.100000    2.420000   81.000000    1.000000  \n"
     ]
    }
   ],
   "source": [
    "print(data1.describe())"
   ]
  },
  {
   "cell_type": "code",
   "execution_count": 4,
   "id": "97eba5dc",
   "metadata": {},
   "outputs": [
    {
     "name": "stdout",
     "output_type": "stream",
     "text": [
      "   Glucose  Insulin   BMI  Outcome\n",
      "0    148.0    155.0  33.6        1\n",
      "1     85.0    155.0  26.6        0\n"
     ]
    }
   ],
   "source": [
    "# for the purpose of simplicity and analysing the most relevent  data , we will select three features of the dataset\n",
    "# Glucose , Insulin and BMI\n",
    "q_cols = ['Glucose','Insulin','BMI','Outcome']\n",
    "\n",
    "# defining variables and features for the dataset for splitting \n",
    "df = data1[q_cols]\n",
    "print(df.head(2))"
   ]
  },
  {
   "cell_type": "code",
   "execution_count": 5,
   "id": "81307909",
   "metadata": {},
   "outputs": [],
   "source": [
    "# let's split the data into training and testing datasets\n",
    "split = 0.75 # 75% train and 25% test dataset\n",
    "total_len = len(df)\n",
    "split_df = int(total_len*split)\n",
    "train, test = df.iloc[:split_df,0:4],df.iloc[split_df:,0:4] \n",
    "train_x = train[['Glucose','Insulin','BMI']]\n",
    "train_y = train['Outcome']\n",
    "test_x = test[['Glucose','Insulin','BMI']]\n",
    "test_y = test['Outcome']"
   ]
  },
  {
   "cell_type": "code",
   "execution_count": 6,
   "id": "fb70e24b",
   "metadata": {},
   "outputs": [
    {
     "name": "stdout",
     "output_type": "stream",
     "text": [
      " Training data = 576 \n",
      " Testing data = 192 \n",
      " Total data length =  768\n"
     ]
    }
   ],
   "source": [
    "a = len(train_x) \n",
    "b = len(test_x)\n",
    "print(' Training data =',a,'\\n','Testing data =',b,'\\n','Total data length = ',a+b)"
   ]
  },
  {
   "cell_type": "code",
   "execution_count": 7,
   "id": "70fa145d",
   "metadata": {},
   "outputs": [],
   "source": [
    "def knn(x_train, y_train, x_test, y_test,n):\n",
    "    n_range = range(1, n)\n",
    "    results = []\n",
    "    for n in n_range:\n",
    "        knn = KNeighborsClassifier(n_neighbors=n)\n",
    "        knn.fit(x_train, y_train)\n",
    "        #Predict the response for test dataset\n",
    "        predict_y = knn.predict(x_test)\n",
    "        accuracy = metrics.accuracy_score(y_test, predict_y)\n",
    "        #matrix = confusion_matrix(y_test,predict_y)\n",
    "        #seaborn_matrix = sns.heatmap(matrix, annot = True, cmap=\"Blues\",cbar=True)\n",
    "        results.append(accuracy)\n",
    "    return results"
   ]
  },
  {
   "cell_type": "code",
   "execution_count": 8,
   "id": "4848dac5",
   "metadata": {},
   "outputs": [
    {
     "data": {
      "text/plain": [
       "[<matplotlib.lines.Line2D at 0x1f812813580>]"
      ]
     },
     "execution_count": 8,
     "metadata": {},
     "output_type": "execute_result"
    },
    {
     "data": {
      "image/png": "[encoded data removed]",
      "text/plain": [
       "<Figure size 432x288 with 1 Axes>"
      ]
     },
     "metadata": {
      "needs_background": "light"
     },
     "output_type": "display_data"
    }
   ],
   "source": [
    "n= 500\n",
    "output = knn(train_x,train_y,test_x,test_y,n)\n",
    "n_range = range(1, n)\n",
    "plt.plot(n_range, output) "
   ]
  },
  {
   "cell_type": "code",
   "execution_count": null,
   "id": "bda2f792",
   "metadata": {},
   "outputs": [],
   "source": []
  }
 ],
 "metadata": {
  "kernelspec": {
   "display_name": "Python 3 (ipykernel)",
   "language": "python",
   "name": "python3"
  },
  "language_info": {
   "codemirror_mode": {
    "name": "ipython",
    "version": 3
   },
   "file_extension": ".py",
   "mimetype": "text/x-python",
   "name": "python",
   "nbconvert_exporter": "python",
   "pygments_lexer": "ipython3",
   "version": "3.7.5"
  }
 },
 "nbformat": 4,
 "nbformat_minor": 5
}
